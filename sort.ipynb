{
 "cells": [
  {
   "cell_type": "code",
   "execution_count": 1,
   "metadata": {},
   "outputs": [
    {
     "name": "stdout",
     "output_type": "stream",
     "text": [
      "[1, 2, 5, 5, 6, 9]\n"
     ]
    }
   ],
   "source": [
    "def whatdoido(L):\n",
    "    s = True\n",
    "    while s:\n",
    "        s = False\n",
    "\n",
    "        # Forward pass (from the beginning to the end)\n",
    "        for i in range(len(L) - 1):\n",
    "            if L[i] > L[i + 1]:\n",
    "                # Swap values L[i] and L[i+1]\n",
    "                L[i], L[i + 1] = L[i + 1], L[i]\n",
    "                s = True\n",
    "\n",
    "        # Backward pass (from the end to the beginning)\n",
    "        for i in range(len(L) - 1, 0, -1):\n",
    "            if L[i] < L[i - 1]:\n",
    "                # Swap values L[i] and L[i-1]\n",
    "                L[i], L[i - 1] = L[i - 1], L[i]\n",
    "                s = True\n",
    "\n",
    "# Example usage:\n",
    "to_sort = [5, 2, 9, 1, 5, 6]\n",
    "whatdoido(to_sort)\n",
    "print(to_sort)  # Sorted list\n"
   ]
  },
  {
   "cell_type": "code",
   "execution_count": 27,
   "metadata": {},
   "outputs": [
    {
     "name": "stdout",
     "output_type": "stream",
     "text": [
      "After sorting:\n",
      "[1, 2, 5, 5, 6, 9]\n",
      "Forward pass:\n",
      "Comparisons: 10, Swaps: 4\n",
      "Backward pass:\n",
      "Comparisons: 10, Swaps: 2\n",
      "Total comparisons: 20\n",
      "Total swaps: 6\n",
      "-------------------------------------------------------------------\n",
      "The total comparison is 20 and total swaps is 6.\n",
      "However, upon removing the backward comparison, the total was 6 with 4 swaps\n"
     ]
    }
   ],
   "source": [
    "def whatdoido(L, include_backward=True):\n",
    "    #counting the number of comparison from forward pass\n",
    "    comparisons_forward = 0\n",
    "    #counting the number of swaps from forward pass\n",
    "    swaps_forward = 0\n",
    "    #counting the number of comparison from backward pass\n",
    "    comparisons_backward = 0\n",
    "    #counting the number of swaps from backward pass\n",
    "    swaps_backward = 0\n",
    "    \n",
    "    s = True\n",
    "    while s:\n",
    "        s = False\n",
    "\n",
    "        # Forward pass (from the beginning to the end)\n",
    "        for i in range(len(L) - 1):\n",
    "            comparisons_forward += 1  # Increment comparisons counter\n",
    "            if L[i] > L[i + 1]:\n",
    "                # Swap values L[i] and L[i+1]\n",
    "                L[i], L[i + 1] = L[i + 1], L[i]\n",
    "                swaps_forward += 1  # Increment swaps counter\n",
    "                s = True\n",
    "\n",
    "        # Backward pass (from the end to the beginning)\n",
    "        for i in range(len(L) - 1, 0, -1):\n",
    "            comparisons_backward += 1  # Increment comparisons counter\n",
    "            if L[i] < L[i - 1]:\n",
    "                # Swap values L[i] and L[i-1]\n",
    "                L[i], L[i - 1] = L[i - 1], L[i]\n",
    "                swaps_backward += 1  # Increment swaps counter\n",
    "                s = True\n",
    "\n",
    "    print(\"After sorting:\")\n",
    "    print(L)\n",
    "    \n",
    "    print(\"Forward pass:\")\n",
    "    print(f\"Comparisons: {comparisons_forward}, Swaps: {swaps_forward}\")\n",
    "\n",
    "    if include_backward:\n",
    "        print(\"Backward pass:\")\n",
    "        print(f\"Comparisons: {comparisons_backward}, Swaps: {swaps_backward}\")\n",
    "        print(f\"Total comparisons: {comparisons_forward + comparisons_backward}\")\n",
    "        print(f\"Total swaps: {swaps_forward + swaps_backward}\")\n",
    "    else:\n",
    "        print(f\"Total comparisons: {comparisons_forward}\")\n",
    "        print(f\"Total swaps: {swaps_forward}\")\n",
    "\n",
    "# Example usage:\n",
    "to_sort = [5, 2, 9, 1, 5, 6]\n",
    "whatdoido(to_sort, include_backward=True)\n",
    "print(\"-------------------------------------------------------------------\")\n",
    "print(\"The total comparison is 20 and total swaps is 6.\")\n",
    "print(\"However, upon removing the backward comparison, the total was 6 with 4 swaps\")"
   ]
  }
 ],
 "metadata": {
  "kernelspec": {
   "display_name": "Python 3",
   "language": "python",
   "name": "python3"
  },
  "language_info": {
   "codemirror_mode": {
    "name": "ipython",
    "version": 3
   },
   "file_extension": ".py",
   "mimetype": "text/x-python",
   "name": "python",
   "nbconvert_exporter": "python",
   "pygments_lexer": "ipython3",
   "version": "3.11.5"
  }
 },
 "nbformat": 4,
 "nbformat_minor": 2
}
